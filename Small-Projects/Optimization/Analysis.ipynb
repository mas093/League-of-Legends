{
 "cells": [
  {
   "cell_type": "markdown",
   "id": "0940a346",
   "metadata": {},
   "source": [
    "This notebook will use the other programs in the 'Optimizations' project to benchmark different methods of creating efficiency in programming. To do this each program will be called 20 times and the average execution time of the 500x500 multiplicaiton will be generated and compared."
   ]
  },
  {
   "cell_type": "code",
   "execution_count": 1,
   "id": "f6037709",
   "metadata": {},
   "outputs": [],
   "source": [
    "#import the python function.  All others are executables\n",
    "import p_matmul_cpu\n",
    "import subprocess\n",
    "import statistics\n",
    "import matplotlib.pyplot as plt"
   ]
  },
  {
   "cell_type": "code",
   "execution_count": 2,
   "id": "99f236e3",
   "metadata": {},
   "outputs": [],
   "source": [
    "python_cpu_times = [] #Seconds\n",
    "c_cpu_times = [] #Seconds\n",
    "c_omp_times = [] #Seconds\n",
    "cuda_times = [] #Milliseconds"
   ]
  },
  {
   "cell_type": "code",
   "execution_count": 3,
   "id": "4cc991a7",
   "metadata": {},
   "outputs": [],
   "source": [
    "for i in range(20): #Generate python cpu times\n",
    "    python_cpu_times += [p_matmul_cpu.main()]"
   ]
  },
  {
   "cell_type": "code",
   "execution_count": 4,
   "id": "a49dda8b",
   "metadata": {},
   "outputs": [],
   "source": [
    "for i in range(20): #Generate C cpu times\n",
    "    c_cpu_times += [float(subprocess.run('c_matmul_cpu', capture_output = True).stdout)]"
   ]
  },
  {
   "cell_type": "code",
   "execution_count": 5,
   "id": "e126f814",
   "metadata": {},
   "outputs": [],
   "source": [
    "for i in range(20): #Generate C multithread times\n",
    "    c_omp_times += [float(subprocess.run('matmul_omp', capture_output = True).stdout)]"
   ]
  },
  {
   "cell_type": "code",
   "execution_count": 6,
   "id": "a0609168",
   "metadata": {},
   "outputs": [],
   "source": [
    "for i in range(20): #Generate GPU times\n",
    "    cuda_times += [float(subprocess.run('matmul_cuda', capture_output = True).stdout)]"
   ]
  },
  {
   "cell_type": "code",
   "execution_count": 7,
   "id": "eaafb2fc",
   "metadata": {},
   "outputs": [],
   "source": [
    "#Standardize all results as milliseconds\n",
    "python_cpu_times = [x * 1000 for x in python_cpu_times]\n",
    "c_cpu_times = [x * 1000 for x in c_cpu_times]\n",
    "c_omp_times = [x * 1000 for x in c_omp_times]"
   ]
  },
  {
   "cell_type": "code",
   "execution_count": 8,
   "id": "a7052699",
   "metadata": {},
   "outputs": [],
   "source": [
    "py_avg = statistics.mean(python_cpu_times)\n",
    "c_cpu_avg = statistics.mean(c_cpu_times)\n",
    "c_omp_avg = statistics.mean(c_omp_times)\n",
    "cuda_avg = statistics.mean(cuda_times)"
   ]
  },
  {
   "cell_type": "markdown",
   "id": "6e390ccb",
   "metadata": {},
   "source": [
    "Having obtained the average times with each approach I choose to graph them.  Unfortunately the standard python solution is so much slower and CUDA so much faster I needed to scale the graph logarithmically.  This scaled graph highlight just how extremely fast the CUDA solution is than any of the CPU solutions.  "
   ]
  },
  {
   "cell_type": "code",
   "execution_count": 9,
   "id": "47d0154b",
   "metadata": {},
   "outputs": [
    {
     "data": {
      "image/png": "[encoded data removed]",
      "text/plain": [
       "<Figure size 432x288 with 1 Axes>"
      ]
     },
     "metadata": {
      "needs_background": "light"
     },
     "output_type": "display_data"
    }
   ],
   "source": [
    "fig = plt.figure()\n",
    "ax = fig.add_axes([0,0,1,1])\n",
    "langs = ['Python', 'C', 'C_Multithread', 'Cuda']\n",
    "times = [py_avg, c_cpu_avg, c_omp_avg, cuda_avg]\n",
    "ax.bar(langs,times)\n",
    "ax.set_yscale(\"log\")\n",
    "plt.show()"
   ]
  },
  {
   "cell_type": "code",
   "execution_count": 10,
   "id": "1e0733d1",
   "metadata": {},
   "outputs": [
    {
     "name": "stdout",
     "output_type": "stream",
     "text": [
      "Python mean time in milliseconds:  20040.64449071884\n",
      "C mean time in milliseconds:  386.1\n",
      "C multithread mean time in milliseconds:  81.2\n",
      "Cuda mean time in milliseconds:  0.0537792\n"
     ]
    }
   ],
   "source": [
    "print(\"Python mean time in milliseconds: \", py_avg)\n",
    "print(\"C mean time in milliseconds: \", c_cpu_avg)\n",
    "print(\"C multithread mean time in milliseconds: \", c_omp_avg)\n",
    "print(\"Cuda mean time in milliseconds: \",cuda_avg)"
   ]
  },
  {
   "cell_type": "markdown",
   "id": "052b45e7",
   "metadata": {},
   "source": [
    "As this demonstrates the difference between a python implementation of matrix multiplication and any other implementation is significant.  While the python solution is acceptable for smaller matrices this example clearly demonstrates the innefficiency of python when compared to C.  It also serves to highlight a similar difference in efficiency between processing on the CPU and processing on the GPU.  "
   ]
  }
 ],
 "metadata": {
  "kernelspec": {
   "display_name": "Python 3",
   "language": "python",
   "name": "python3"
  },
  "language_info": {
   "codemirror_mode": {
    "name": "ipython",
    "version": 3
   },
   "file_extension": ".py",
   "mimetype": "text/x-python",
   "name": "python",
   "nbconvert_exporter": "python",
   "pygments_lexer": "ipython3",
   "version": "3.8.8"
  }
 },
 "nbformat": 4,
 "nbformat_minor": 5
}
